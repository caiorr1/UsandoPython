{
 "cells": [
  {
   "cell_type": "code",
   "execution_count": null,
   "id": "c9f3c7eb",
   "metadata": {},
   "outputs": [],
   "source": [
    "import json\n",
    "import glob\n",
    "\n",
    "import requests"
   ]
  },
  {
   "cell_type": "code",
   "execution_count": null,
   "id": "ca528f79",
   "metadata": {},
   "outputs": [],
   "source": [
    "for i in glob.glob('*_?.json'):\n",
    "    print(i)"
   ]
  },
  {
   "cell_type": "code",
   "execution_count": null,
   "id": "f619c078",
   "metadata": {},
   "outputs": [],
   "source": [
    "dicionario = {\n",
    "    'nome': 'Vagner Amaral',\n",
    "    'idade': 37,\n",
    "    'altura': 1.70,\n",
    "    'status': True,\n",
    "    'linguagens': [\n",
    "        {'linguagem': 'python', 'proficiencia': 9},\n",
    "        {'linguagem': 'java', 'proficiencia': 2},\n",
    "        {'linguagem': 'c/c++', 'proficiencia': 3},\n",
    "        {'linguagem': 'javascript', 'proficiencia': 3},\n",
    "        {'linguagem': 'rust', 'proficiencia': 2},\n",
    "        {'linguagem': 'c#', 'proficiencia': 6},\n",
    "        {'linguagem': 'sql', 'proficiencia': 9}\n",
    "    ],\n",
    "    'treinamentos': {\n",
    "        'python': [9, 7, 3, 6, 8],\n",
    "        'java': 2,\n",
    "        'c/c++': 3,\n",
    "        'javascript': 3,\n",
    "        'rust': [2, 8],\n",
    "        'c#': 6,\n",
    "        'sql': [9, 7, 7]\n",
    "    }\n",
    "}"
   ]
  },
  {
   "cell_type": "code",
   "execution_count": null,
   "id": "e1fdc425",
   "metadata": {},
   "outputs": [],
   "source": [
    "dicionario['linguagens']"
   ]
  },
  {
   "cell_type": "code",
   "execution_count": null,
   "id": "1510365a",
   "metadata": {},
   "outputs": [],
   "source": [
    "dicionario['linguagens'][0]"
   ]
  },
  {
   "cell_type": "code",
   "execution_count": null,
   "id": "8534acb9",
   "metadata": {},
   "outputs": [],
   "source": [
    "dicionario['treinamentos']['python']"
   ]
  },
  {
   "cell_type": "code",
   "execution_count": null,
   "id": "edcfea11",
   "metadata": {},
   "outputs": [],
   "source": [
    "dict_keywords = {\n",
    "    'keyword_1': '123',\n",
    "    'keyword_2': [1, 2, 3],\n",
    "    'keyword_3': {'a': 1, 'b': 2, 'c': 3}\n",
    "}"
   ]
  },
  {
   "cell_type": "code",
   "execution_count": null,
   "id": "71d48053",
   "metadata": {},
   "outputs": [],
   "source": [
    "dict_keywords['keyword_3']['a']"
   ]
  },
  {
   "cell_type": "code",
   "execution_count": null,
   "id": "d8365edb",
   "metadata": {},
   "outputs": [],
   "source": [
    "for i in dicionario['linguagens']:\n",
    "    \n",
    "    if i['proficiencia'] > 5:\n",
    "        print('Linguagem: ', i['linguagem'], ' Proficiência: ', i['proficiencia'])"
   ]
  },
  {
   "cell_type": "code",
   "execution_count": null,
   "id": "54051789",
   "metadata": {},
   "outputs": [],
   "source": [
    "for i, j in dicionario['treinamentos'].items():\n",
    "    print('Linguagem: ', i)\n",
    "    \n",
    "    if type(j) is list:\n",
    "        for i, nota in enumerate(j):\n",
    "            print(f'Curso {i + 1} - nota: {nota}')\n",
    "    else:\n",
    "        print(f'Curso 1 - nota: {j}')\n",
    "    \n",
    "    print()"
   ]
  },
  {
   "cell_type": "code",
   "execution_count": null,
   "id": "dc6efece",
   "metadata": {},
   "outputs": [],
   "source": [
    "type(dicionario['treinamentos']), type(dicionario['linguagens'])"
   ]
  },
  {
   "cell_type": "code",
   "execution_count": null,
   "id": "fffabaf0",
   "metadata": {},
   "outputs": [],
   "source": [
    "file = open('cadastro.json', 'w')\n",
    "file.close()"
   ]
  },
  {
   "cell_type": "code",
   "execution_count": null,
   "id": "c0307f4d",
   "metadata": {},
   "outputs": [],
   "source": [
    "with open('cadastro_3.json', 'w') as file:\n",
    "    json.dump(dicionario, file)"
   ]
  },
  {
   "cell_type": "code",
   "execution_count": null,
   "id": "bfa5e337",
   "metadata": {},
   "outputs": [],
   "source": [
    "with open('cadastro.json', 'r') as file:\n",
    "    txt_json = file.read()"
   ]
  },
  {
   "cell_type": "code",
   "execution_count": null,
   "id": "973a6fbd",
   "metadata": {},
   "outputs": [],
   "source": [
    "txt_json"
   ]
  },
  {
   "cell_type": "code",
   "execution_count": null,
   "id": "4dcd17af",
   "metadata": {},
   "outputs": [],
   "source": [
    "response = requests.get('https://www.uol.com.br/')"
   ]
  },
  {
   "cell_type": "code",
   "execution_count": null,
   "id": "31e25a3b",
   "metadata": {},
   "outputs": [],
   "source": [
    "response.text"
   ]
  }
 ],
 "metadata": {
  "kernelspec": {
   "display_name": "Python 3 (ipykernel)",
   "language": "python",
   "name": "python3"
  },
  "language_info": {
   "codemirror_mode": {
    "name": "ipython",
    "version": 3
   },
   "file_extension": ".py",
   "mimetype": "text/x-python",
   "name": "python",
   "nbconvert_exporter": "python",
   "pygments_lexer": "ipython3",
   "version": "3.10.4"
  }
 },
 "nbformat": 4,
 "nbformat_minor": 5
}
