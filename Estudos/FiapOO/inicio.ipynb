{
 "cells": [
  {
   "attachments": {},
   "cell_type": "markdown",
   "metadata": {},
   "source": [
    "4 princípios de OO:\n",
    "\n",
    "- Abstração\n",
    "- Encapsulamento\n",
    "- Herança\n",
    "- Polimorfismo"
   ]
  },
  {
   "cell_type": "code",
   "execution_count": 66,
   "metadata": {},
   "outputs": [],
   "source": [
    "class Pessoa:\n",
    "\n",
    "    def __init__(self, nome, idade, ano_de_nascimento, peso, altura):\n",
    "        self.nome = nome\n",
    "        self.idade = idade\n",
    "        self.ano_de_nascimento = ano_de_nascimento\n",
    "        self.peso = peso\n",
    "        self.altura = altura\n",
    "\n",
    "    def printar_nome(self):\n",
    "        print(self.nome)\n",
    "\n",
    "    def apresentacao(self):\n",
    "        print(f\"Meu nome é {self.nome} e tenho {self.idade} anos.\")\n",
    "\n",
    "    def calcular_idade(self, data_atual):\n",
    "        idade = data_atual.year - self.ano_de_nascimento\n",
    "\n",
    "        if data_atual.month < self.data_de_nascimento.month:\n",
    "            idade -= 1\n",
    "\n",
    "        return idade\n",
    "\n",
    "    def imc(self):\n",
    "        return self.peso / (self.altura ** 2)\n",
    "\n",
    "class Crianca(Pessoa):\n",
    "    \n",
    "    def __init__(self, nome, idade, ano_de_nascimento, desenho_favorito, peso, altura):\n",
    "        super().__init__(nome, idade, ano_de_nascimento, peso, altura)\n",
    "        self.desenho_favorito = desenho_favorito\n",
    "\n",
    "    def assistir_desenho(self):\n",
    "        print(f'{self.nome} está assistindo {self.desenho_favorito}')\n",
    "\n",
    "class Adulto(Pessoa):\n",
    "    def __init__(self, nome, idade,ano_de_nascimento, ocupacao,  peso, altura):\n",
    "        super().__init__(nome, idade,ano_de_nascimento, peso, altura)\n",
    "        self.ocupacao = ocupacao\n",
    "\n",
    "    def trabalhar(self):\n",
    "        print(f\"{self.nome} está trabalhando como {self.ocupacao}\")"
   ]
  },
  {
   "cell_type": "code",
   "execution_count": 68,
   "metadata": {},
   "outputs": [],
   "source": [
    "pessoa1 = Pessoa('Caio Rodrigues', 19, 2004, 70, 1.75)\n",
    "pessoa2 = Crianca('Caiozin', 10, 2009, 'Bob Esponja', 45, 1.52)\n",
    "pessoa3 = Adulto('Caio Velho', 25, 1993, 'Desenvolvedor Senior', 82, 1.82)\n"
   ]
  },
  {
   "cell_type": "code",
   "execution_count": 69,
   "metadata": {},
   "outputs": [
    {
     "name": "stdout",
     "output_type": "stream",
     "text": [
      "Meu nome é Caio Rodrigues e tenho 19 anos.\n"
     ]
    },
    {
     "data": {
      "text/plain": [
       "22.857142857142858"
      ]
     },
     "execution_count": 69,
     "metadata": {},
     "output_type": "execute_result"
    }
   ],
   "source": [
    "pessoa1.apresentacao()\n",
    "pessoa1.imc()"
   ]
  },
  {
   "cell_type": "code",
   "execution_count": 73,
   "metadata": {},
   "outputs": [
    {
     "name": "stdout",
     "output_type": "stream",
     "text": [
      "Meu nome é Caiozin e tenho 10 anos.\n",
      "Caiozin está assistindo Bob Esponja\n"
     ]
    },
    {
     "ename": "AttributeError",
     "evalue": "'str' object has no attribute 'year'",
     "output_type": "error",
     "traceback": [
      "\u001b[1;31m---------------------------------------------------------------------------\u001b[0m",
      "\u001b[1;31mAttributeError\u001b[0m                            Traceback (most recent call last)",
      "Cell \u001b[1;32mIn[73], line 4\u001b[0m\n\u001b[0;32m      2\u001b[0m pessoa2\u001b[39m.\u001b[39massistir_desenho()\n\u001b[0;32m      3\u001b[0m pessoa2\u001b[39m.\u001b[39mimc()\n\u001b[1;32m----> 4\u001b[0m pessoa2\u001b[39m.\u001b[39;49mcalcular_idade(\u001b[39m'\u001b[39;49m\u001b[39m26 04 2023\u001b[39;49m\u001b[39m'\u001b[39;49m)\n",
      "Cell \u001b[1;32mIn[66], line 17\u001b[0m, in \u001b[0;36mPessoa.calcular_idade\u001b[1;34m(self, data_atual)\u001b[0m\n\u001b[0;32m     16\u001b[0m \u001b[39mdef\u001b[39;00m \u001b[39mcalcular_idade\u001b[39m(\u001b[39mself\u001b[39m, data_atual):\n\u001b[1;32m---> 17\u001b[0m     idade \u001b[39m=\u001b[39m data_atual\u001b[39m.\u001b[39;49myear \u001b[39m-\u001b[39m \u001b[39mself\u001b[39m\u001b[39m.\u001b[39mano_de_nascimento\n\u001b[0;32m     19\u001b[0m     \u001b[39mif\u001b[39;00m data_atual\u001b[39m.\u001b[39mmonth \u001b[39m<\u001b[39m \u001b[39mself\u001b[39m\u001b[39m.\u001b[39mdata_de_nascimento\u001b[39m.\u001b[39mmonth:\n\u001b[0;32m     20\u001b[0m         idade \u001b[39m-\u001b[39m\u001b[39m=\u001b[39m \u001b[39m1\u001b[39m\n",
      "\u001b[1;31mAttributeError\u001b[0m: 'str' object has no attribute 'year'"
     ]
    }
   ],
   "source": [
    "pessoa2.apresentacao()\n",
    "pessoa2.assistir_desenho()\n",
    "pessoa2.imc()\n",
    "pessoa2.calcular_idade('26 04 2023')"
   ]
  },
  {
   "cell_type": "code",
   "execution_count": 63,
   "metadata": {},
   "outputs": [
    {
     "name": "stdout",
     "output_type": "stream",
     "text": [
      "Meu nome é Caio Velho e tenho 25 anos.\n",
      "Caio Velho está trabalhando como Desenvolvedor Senior\n"
     ]
    },
    {
     "data": {
      "text/plain": [
       "24.755464315903875"
      ]
     },
     "execution_count": 63,
     "metadata": {},
     "output_type": "execute_result"
    }
   ],
   "source": [
    "pessoa3.apresentacao()\n",
    "pessoa3.trabalhar()\n",
    "pessoa3.imc()"
   ]
  },
  {
   "cell_type": "code",
   "execution_count": null,
   "metadata": {},
   "outputs": [],
   "source": []
  }
 ],
 "metadata": {
  "kernelspec": {
   "display_name": "Python 3",
   "language": "python",
   "name": "python3"
  },
  "language_info": {
   "codemirror_mode": {
    "name": "ipython",
    "version": 3
   },
   "file_extension": ".py",
   "mimetype": "text/x-python",
   "name": "python",
   "nbconvert_exporter": "python",
   "pygments_lexer": "ipython3",
   "version": "3.11.4"
  },
  "orig_nbformat": 4
 },
 "nbformat": 4,
 "nbformat_minor": 2
}
